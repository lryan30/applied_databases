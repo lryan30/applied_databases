{
 "cells": [
  {
   "cell_type": "markdown",
   "metadata": {},
   "source": [
    "# **Topic 2 Exercise:**"
   ]
  },
  {
   "cell_type": "markdown",
   "metadata": {},
   "source": [
    "1. Get school.sql from Moodle and import it into MySQL.\n",
    "2. What is the maximum length of data that can be inserted into the Name attribute of the\n",
    "subject table?\n",
    "3. What is the Primary Key of the teacher table?\n",
    "4. What is the Primary Key of the subject table?\n",
    "5. Show all data contained in the subject table.\n",
    "6. Show all names of all subjects that are on the leaving cert.\n",
    "7. Show all name and experience of all teachers who are qualified to teach to Leaving Cert.\n",
    "8. Show all details of all subjects who are taught by teachers whose title is not “Mr.”\n",
    "9. Show all details of all teachers who were born in January, February or March, and who can\n",
    "teach as far as Junior Cert only.\n",
    "10. Show all unique month names that teachers were born in.\n",
    "11. Show all details of all teachers, sorted by first by experience, then level.\n",
    "12. Show all details of all subjects whose 3rd or 4th letter is “l”. Sort them by name.\n",
    "13. Show the name of all teachers who have 10, 15, 20, 25, 30, 35, 40, 45, 50, 55 or 60 years\n",
    "experience. Sort from youngest to oldest."
   ]
  },
  {
   "cell_type": "markdown",
   "metadata": {},
   "source": []
  }
 ],
 "metadata": {
  "kernelspec": {
   "display_name": "base",
   "language": "python",
   "name": "python3"
  },
  "language_info": {
   "name": "python",
   "version": "3.11.7"
  }
 },
 "nbformat": 4,
 "nbformat_minor": 2
}
