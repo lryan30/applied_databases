{
 "cells": [
  {
   "cell_type": "markdown",
   "metadata": {},
   "source": [
    "#   Topic 3: Functions and Procedures:"
   ]
  },
  {
   "cell_type": "markdown",
   "metadata": {},
   "source": [
    "\n",
    "Mysql can do more than store and retrieve data. it can also manipulate the data before storing or retrieving it, via functions. \n",
    "\n",
    "-   A function is a piece of code that performs some operation and returns a result. \n",
    "-   some functions accept parameters but others do not. "
   ]
  },
  {
   "cell_type": "markdown",
   "metadata": {},
   "source": [
    "-   command line client\n",
    "-   lab1.sql\n"
   ]
  }
 ],
 "metadata": {
  "kernelspec": {
   "display_name": "base",
   "language": "python",
   "name": "python3"
  },
  "language_info": {
   "name": "python",
   "version": "3.11.7"
  }
 },
 "nbformat": 4,
 "nbformat_minor": 2
}
